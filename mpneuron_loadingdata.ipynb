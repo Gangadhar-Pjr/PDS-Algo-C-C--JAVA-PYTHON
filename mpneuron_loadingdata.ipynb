{
  "nbformat": 4,
  "nbformat_minor": 0,
  "metadata": {
    "colab": {
      "name": "mpneuron-loadingdata.ipynb",
      "version": "0.3.2",
      "provenance": [],
      "include_colab_link": true
    },
    "kernelspec": {
      "name": "python3",
      "display_name": "Python 3"
    }
  },
  "cells": [
    {
      "cell_type": "markdown",
      "metadata": {
        "id": "view-in-github",
        "colab_type": "text"
      },
      "source": [
        "<a href=\"https://colab.research.google.com/github/Gangadhar-Pjr/PDS-Algo-C-C--JAVA-PYTHON/blob/master/mpneuron_loadingdata.ipynb\" target=\"_parent\"><img src=\"https://colab.research.google.com/assets/colab-badge.svg\" alt=\"Open In Colab\"/></a>"
      ]
    },
    {
      "cell_type": "code",
      "metadata": {
        "id": "E_sq69yNv7Rt",
        "colab_type": "code",
        "colab": {}
      },
      "source": [
        "import sklearn.data\n"
      ],
      "execution_count": 0,
      "outputs": []
    },
    {
      "cell_type": "code",
      "metadata": {
        "id": "WaxwHSrnwgwt",
        "colab_type": "code",
        "colab": {}
      },
      "source": [
        "!pip install -U scikit-learn scipy matplotlib\n"
      ],
      "execution_count": 0,
      "outputs": []
    },
    {
      "cell_type": "code",
      "metadata": {
        "id": "nh_zXisKw1OY",
        "colab_type": "code",
        "colab": {}
      },
      "source": [
        "import sklearn.datasets\n",
        "import numpy as np\n",
        "brst_cncr = sklearn.datasets.load_breast_cancer() #it is of type sklearn bunch\n",
        "#type(brst_cncr)\n",
        "x = brst_cncr.data #it is of type numpy.ndarray - all feature\n",
        "y = brst_cncr.target#it is of type numpy.ndarray - represent a particular instance has cancer \n",
        "#type(y)\n",
        "#print(y)\n",
        "import pandas as pd\n",
        "df = pd.DataFrame(brst_cncr.data,columns=brst_cncr.feature_names)\n",
        "#adding a new columns to above df\n",
        "df['class'] = brst_cncr.target\n"
      ],
      "execution_count": 0,
      "outputs": []
    }
  ]
}